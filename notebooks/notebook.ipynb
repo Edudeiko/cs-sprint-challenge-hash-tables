{
 "cells": [
  {
   "cell_type": "code",
   "execution_count": 73,
   "metadata": {},
   "outputs": [],
   "source": [
    "def get_indices_of_item_weights(weights, length, limit):\n",
    "    \"\"\"\n",
    "    YOUR CODE HERE\n",
    "    \"\"\"\n",
    "    cache = dict()\n",
    "    for idx in range(len(weights)):\n",
    "        if weights[idx] in cache and weights[idx] == cache[weights[idx]][1]:\n",
    "            return idx, cache[weights[idx]][0]\n",
    "\n",
    "        else:\n",
    "            cache[weights[idx]] = (idx, limit - weights[idx])\n",
    "\n",
    "    d = list(cache.items())\n",
    "    d.sort(reverse=True, key=lambda pair: pair[1][0])\n",
    "\n",
    "    for ii in d:\n",
    "        if ii[1][1] in cache:\n",
    "            result = ii[1][0], cache[ii[1][1]][0]\n",
    "            return result\n",
    "\n",
    "    return None"
   ]
  },
  {
   "cell_type": "code",
   "execution_count": 74,
   "metadata": {},
   "outputs": [],
   "source": [
    "weights_1 = [9]\n",
    "answer_1 = get_indices_of_item_weights(weights_1, 1, 9)\n",
    "# self.assertTrue(answer_1 is None)"
   ]
  },
  {
   "cell_type": "code",
   "execution_count": 75,
   "metadata": {},
   "outputs": [
    {
     "name": "stdout",
     "output_type": "stream",
     "text": [
      "None\n"
     ]
    }
   ],
   "source": [
    "print(answer_1)"
   ]
  },
  {
   "cell_type": "code",
   "execution_count": 76,
   "metadata": {},
   "outputs": [],
   "source": [
    "weights_2 = [4, 4]\n",
    "answer_2 = get_indices_of_item_weights(weights_2, 2, 8)\n",
    "# self.assertTrue(answer_2[0] == 1)\n",
    "# self.assertTrue(answer_2[1] == 0)"
   ]
  },
  {
   "cell_type": "code",
   "execution_count": 77,
   "metadata": {},
   "outputs": [
    {
     "name": "stdout",
     "output_type": "stream",
     "text": [
      "(1, 0)\n"
     ]
    }
   ],
   "source": [
    "print(answer_2)"
   ]
  },
  {
   "cell_type": "code",
   "execution_count": 78,
   "metadata": {},
   "outputs": [],
   "source": [
    "weights_3 = [4, 6, 10, 15, 16]\n",
    "answer_3 = get_indices_of_item_weights(weights_3, 5, 21)\n",
    "# self.assertTrue(answer_3[0] == 3)\n",
    "# self.assertTrue(answer_3[1] == 1)"
   ]
  },
  {
   "cell_type": "code",
   "execution_count": 79,
   "metadata": {},
   "outputs": [
    {
     "name": "stdout",
     "output_type": "stream",
     "text": [
      "(3, 1)\n"
     ]
    }
   ],
   "source": [
    "print(answer_3)"
   ]
  },
  {
   "cell_type": "code",
   "execution_count": null,
   "metadata": {},
   "outputs": [],
   "source": [
    "class Ticket:\n",
    "    def __init__(self, source, destination):\n",
    "        self.source = source\n",
    "        self.destination = destination\n",
    "\n",
    "\n",
    "def reconstruct_trip(tickets, length):\n",
    "    \"\"\"\n",
    "    YOUR CODE HERE\n",
    "    \"\"\"\n",
    "    # Your code here\n",
    "\n",
    "    return route"
   ]
  }
 ],
 "metadata": {
  "kernelspec": {
   "display_name": "Python 3",
   "language": "python",
   "name": "python3"
  },
  "language_info": {
   "codemirror_mode": {
    "name": "ipython",
    "version": 3
   },
   "file_extension": ".py",
   "mimetype": "text/x-python",
   "name": "python",
   "nbconvert_exporter": "python",
   "pygments_lexer": "ipython3",
   "version": "3.7.4"
  }
 },
 "nbformat": 4,
 "nbformat_minor": 2
}
