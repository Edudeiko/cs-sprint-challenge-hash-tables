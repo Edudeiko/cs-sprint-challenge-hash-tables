{
 "cells": [
  {
   "cell_type": "code",
   "execution_count": 73,
   "metadata": {},
   "outputs": [],
   "source": [
    "def get_indices_of_item_weights(weights, length, limit):\n",
    "    \"\"\"\n",
    "    YOUR CODE HERE\n",
    "    \"\"\"\n",
    "    cache = dict()\n",
    "    for idx in range(len(weights)):\n",
    "        if weights[idx] in cache and weights[idx] == cache[weights[idx]][1]:\n",
    "            return idx, cache[weights[idx]][0]\n",
    "\n",
    "        else:\n",
    "            cache[weights[idx]] = (idx, limit - weights[idx])\n",
    "\n",
    "    d = list(cache.items())\n",
    "    d.sort(reverse=True, key=lambda pair: pair[1][0])\n",
    "\n",
    "    for ii in d:\n",
    "        if ii[1][1] in cache:\n",
    "            result = ii[1][0], cache[ii[1][1]][0]\n",
    "            return result\n",
    "\n",
    "    return None"
   ]
  },
  {
   "cell_type": "code",
   "execution_count": 74,
   "metadata": {},
   "outputs": [],
   "source": [
    "weights_1 = [9]\n",
    "answer_1 = get_indices_of_item_weights(weights_1, 1, 9)\n",
    "# self.assertTrue(answer_1 is None)"
   ]
  },
  {
   "cell_type": "code",
   "execution_count": 75,
   "metadata": {},
   "outputs": [
    {
     "name": "stdout",
     "output_type": "stream",
     "text": [
      "None\n"
     ]
    }
   ],
   "source": [
    "print(answer_1)"
   ]
  },
  {
   "cell_type": "code",
   "execution_count": 76,
   "metadata": {},
   "outputs": [],
   "source": [
    "weights_2 = [4, 4]\n",
    "answer_2 = get_indices_of_item_weights(weights_2, 2, 8)\n",
    "# self.assertTrue(answer_2[0] == 1)\n",
    "# self.assertTrue(answer_2[1] == 0)"
   ]
  },
  {
   "cell_type": "code",
   "execution_count": 77,
   "metadata": {},
   "outputs": [
    {
     "name": "stdout",
     "output_type": "stream",
     "text": [
      "(1, 0)\n"
     ]
    }
   ],
   "source": [
    "print(answer_2)"
   ]
  },
  {
   "cell_type": "code",
   "execution_count": 78,
   "metadata": {},
   "outputs": [],
   "source": [
    "weights_3 = [4, 6, 10, 15, 16]\n",
    "answer_3 = get_indices_of_item_weights(weights_3, 5, 21)\n",
    "# self.assertTrue(answer_3[0] == 3)\n",
    "# self.assertTrue(answer_3[1] == 1)"
   ]
  },
  {
   "cell_type": "code",
   "execution_count": 79,
   "metadata": {},
   "outputs": [
    {
     "name": "stdout",
     "output_type": "stream",
     "text": [
      "(3, 1)\n"
     ]
    }
   ],
   "source": [
    "print(answer_3)"
   ]
  },
  {
   "cell_type": "code",
   "execution_count": null,
   "metadata": {},
   "outputs": [],
   "source": [
    "from collections import Counter"
   ]
  },
  {
   "cell_type": "code",
   "execution_count": 179,
   "metadata": {},
   "outputs": [
    {
     "name": "stdout",
     "output_type": "stream",
     "text": [
      "[1, 2, 4]\n"
     ]
    }
   ],
   "source": [
    "def has_negatives(a):\n",
    "    \"\"\"\n",
    "    YOUR CODE HERE\n",
    "    \"\"\"\n",
    "    positive = []\n",
    "    for ii in a:\n",
    "        result = abs(ii)\n",
    "        positive.append(result)\n",
    "    \n",
    "    cache = dict()\n",
    "    for ii in positive:\n",
    "        if ii not in cache:\n",
    "            cache[ii] = 1\n",
    "        else:\n",
    "            cache[ii] += 1\n",
    "\n",
    "    result = list(cache.items())\n",
    "#     counts = Counter(positive)\n",
    "#     result = [id for id in cache_d if cache_d[id] > 1]\n",
    "    lists = []\n",
    "    for k, v in result:\n",
    "        if v>1:\n",
    "            lists.append(k)\n",
    "\n",
    "    return lists\n",
    "\n",
    "\n",
    "if __name__ == \"__main__\":\n",
    "    print(has_negatives([-1, -2, 1, 2, 3, 4, -4]))"
   ]
  },
  {
   "cell_type": "code",
   "execution_count": 180,
   "metadata": {},
   "outputs": [],
   "source": [
    "cache = {}\n",
    "\n",
    "\n",
    "def web_client(URL):\n",
    "    # check if the URL is in cache\n",
    "    if URL in cache:\n",
    "        print('found locally, saving time!!')\n",
    "        return cache[URL]\n",
    "\n",
    "    # otherwise, fetch and put in cache\n",
    "    else:\n",
    "        print('did not find, going out over the interwebs')\n",
    "        response = urllib.request.urlopen('https://www.google.com')\n",
    "\n",
    "        data = response.read()\n",
    "\n",
    "        response.close()\n",
    "\n",
    "        cache[URL] = data\n",
    "\n",
    "        return cache[URL]"
   ]
  },
  {
   "cell_type": "code",
   "execution_count": null,
   "metadata": {},
   "outputs": [],
   "source": [
    "def finder(files, queries):\n",
    "    \"\"\"\n",
    "    YOUR CODE HERE\n",
    "    \"\"\"\n",
    "    # Your code here\n",
    "\n",
    "    return result\n",
    "\n",
    "\n",
    "if __name__ == \"__main__\":\n",
    "    files = [\n",
    "        '/bin/foo',\n",
    "        '/bin/bar',\n",
    "        '/usr/bin/baz'\n",
    "    ]\n",
    "    queries = [\n",
    "        \"foo\",\n",
    "        \"qux\",\n",
    "        \"baz\"\n",
    "    ]\n",
    "    print(finder(files, queries))"
   ]
  }
 ],
 "metadata": {
  "kernelspec": {
   "display_name": "Python 3",
   "language": "python",
   "name": "python3"
  },
  "language_info": {
   "codemirror_mode": {
    "name": "ipython",
    "version": 3
   },
   "file_extension": ".py",
   "mimetype": "text/x-python",
   "name": "python",
   "nbconvert_exporter": "python",
   "pygments_lexer": "ipython3",
   "version": "3.7.4"
  }
 },
 "nbformat": 4,
 "nbformat_minor": 2
}
